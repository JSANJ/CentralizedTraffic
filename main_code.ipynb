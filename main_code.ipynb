{
 "cells": [
  {
   "cell_type": "markdown",
   "metadata": {},
   "source": [
    "# Centralized Traffic\n",
    "### Code created and maintained by Justin David Q. SAN JUAN, email: jdqsj1997@yahoo.com, website: justinsj.weebly.com"
   ]
  },
  {
   "cell_type": "markdown",
   "metadata": {},
   "source": [
    "# Import Dependencies\n",
    "#### Dependencies: <br>\n",
    "numpy - for handling data types (mostly handled as numpy arrays)<br>\n",
    "matplotlib.pyplot - for plotting images<br>\n",
    "matplotlib.animation - for animating (creating the GIF)<br>\n",
    "CarClass - for data stored in each car and possible actions for cars<br>\n",
    "MapClass - for plotting data<br>\n",
    "time - for animation<br>\n",
    "<br>\n",
    "#### Constants:<br>\n",
    "\tarea_definition - to be removed<br>\n",
    "\tconstant_speed - normal speed in intersection<br>\n",
    "\tlength of runway - road length before reaching intersection (for adjusting speed with constant acceleration)<br>\n",
    "\tintersection_x, intersection_y, intersection_w, intersection_h (x,y,w,h) coordinates of intersection on absolute map<br>\n",
    "\tcar_width, car_length, assumed dimensions of cars<br>\n",
    "\tplayback_speed - adjusted to speed up or slow down GIF playback<br>\n",
    "<br>\n",
    "The directory is also defined in the PATH variable."
   ]
  },
  {
   "cell_type": "code",
   "execution_count": 1,
   "metadata": {
    "collapsed": true
   },
   "outputs": [],
   "source": [
    "# -*- coding: utf-8 -*-\n",
    "\"\"\"\n",
    "Centralized Traffic Main Code\n",
    "@author: JustinSanJuan\n",
    "\"\"\"\n",
    "import numpy as np\n",
    "from constants import area_definition #Area as matrix and matrix blocks\n",
    "from constants import constant_speed\n",
    "from constants import length_of_runway,max_value, intersection_x, intersection_y, intersection_w, intersection_h\n",
    "from constants import car_width, car_length\n",
    "from constants import playback_speed\n",
    "from constants import start_1, start_2, start_3, start_4, start_5, start_6, start_7, start_8\n",
    "\n",
    "from car_class import CarClass\n",
    "from map_class import MapClass\n",
    "\n",
    "import matplotlib.pyplot as plt\n",
    "\n",
    "from helper_functions import print_image_bw\n",
    "import time\n",
    "\n",
    "PATH = \"C:/Users/JustinSanJuan/Desktop/Workspace/python/Centralized Traffic/\" #path to files folder"
   ]
  },
  {
   "cell_type": "markdown",
   "metadata": {},
   "source": [
    "# Initialization (Map)\n",
    "The background map (static), collision map (dynamic), and other graphics are created and stored in the MapClass object \"A\"."
   ]
  },
  {
   "cell_type": "code",
   "execution_count": 2,
   "metadata": {
    "collapsed": true
   },
   "outputs": [],
   "source": [
    "#Define Areas\n",
    "A = MapClass(area_definition)"
   ]
  },
  {
   "cell_type": "markdown",
   "metadata": {},
   "source": [
    "# Initialization (Cars)\n",
    "Starting positions are defined in the following figure:\n",
    "<img src=\"https://justinsj.weebly.com/uploads/6/4/9/2/64923303/initialization-figure_orig.jpg\" alt=\"Drawing\" style=\"width: 700px;\"/>\n",
    "\n",
    "For the current example, only cars from starting positions 1,3,4,7,8 are spawned for demonstration simplicity.\n",
    "Car_1 is not checked for collision, but cars 3,4,7,8 are checked for collision, and thus adapt to the situation."
   ]
  },
  {
   "cell_type": "code",
   "execution_count": 3,
   "metadata": {
    "collapsed": true
   },
   "outputs": [],
   "source": [
    "'''Define Actions'''\n",
    "#Ex. Cross Straight, Turn left, Turn Right, U-turn, etc.\n",
    "#action_dictonary = define_actions(A)\n",
    "\n",
    "#Define Areas to Clear\n",
    "\n",
    "\n",
    "#Randomly generated source & target points\n",
    "\n",
    "\n",
    "car_1 = CarClass(*start_1, [0,0],[0,3],A.intersection_collision_map,[0,9*playback_speed])\n",
    "#car_2\n",
    "car_3 = CarClass(*start_3,[3,0],[0,0],A.intersection_collision_map,[-10*playback_speed,0])\n",
    "car_4 = CarClass(*start_4,[3,1],[0,1],A.intersection_collision_map,[-10*playback_speed,0])\n",
    "#car_5\n",
    "#car_6\n",
    "car_7 = CarClass(*start_7,[0,3],[3,3],A.intersection_collision_map,[8*playback_speed,0])\n",
    "car_8 = CarClass(*start_8,[0,2],[3,2],A.intersection_collision_map,[8*playback_speed,0])\n",
    "\n",
    "global car_list\n",
    "car_list = [car_1, car_4,car_3,car_7,car_8]"
   ]
  },
  {
   "cell_type": "markdown",
   "metadata": {},
   "source": [
    "# Simulation (Crash)\n",
    "Given the starting velocities of each car in the map, cars 3,4,7, and 8 will **decelarate at a constant acceleration** based on the time it will take for car 1 to clear the path of cars 3,4,7, and 8, and the distance of cars 3,4,7,8 and the crash site with car 1.\n",
    "\n",
    "The equation derivation for the required acceleration (a) is given below:\n",
    "<img src=\"https://justinsj.weebly.com/uploads/6/4/9/2/64923303/derivation-of-a_orig.jpg\" alt=\"Drawing\" style=\"width: 400px;\"/>\n"
   ]
  },
  {
   "cell_type": "code",
   "execution_count": 4,
   "metadata": {},
   "outputs": [],
   "source": [
    "#Simulate\n",
    "%matplotlib inline\n",
    "\n",
    "from matplotlib import animation, rc\n",
    "\n",
    "fig = plt.figure()\n",
    "ax1 = fig.add_subplot(1,1,1)\n",
    "plt.close()\n",
    "global image\n",
    "image = np.copy(A.background_map)\n",
    "def animate(i):\n",
    "    ax1.clear()\n",
    "    ax1.imshow(A.background_map)\n",
    "    image = A.update_cars(car_list)\n",
    "#    A.save_image\n",
    "    ax1.imshow(image,cmap='binary')\n",
    "ani = animation.FuncAnimation(fig, animate, interval=100*playback_speed, frames = 400)\n",
    "#plt.show()\n",
    "\n",
    "#The following code is used to output the html5_video:\n",
    "#from IPython.display import HTML\n",
    "#HTML(ani.to_html5_video())\n"
   ]
  },
  {
   "cell_type": "markdown",
   "metadata": {},
   "source": [
    "### Collision of 4 Cars with 1 Car\n",
    "<img src=\"https://justinsj.weebly.com/uploads/6/4/9/2/64923303/download_1_orig.gif\" alt=\"Drawing\" style=\"width: 700px;\"/>"
   ]
  },
  {
   "cell_type": "markdown",
   "metadata": {},
   "source": [
    "# Re-initialization of Map & Cars"
   ]
  },
  {
   "cell_type": "code",
   "execution_count": 5,
   "metadata": {
    "collapsed": true
   },
   "outputs": [],
   "source": [
    "A = MapClass(area_definition)\n",
    "\n",
    "car_1 = CarClass(*start_1, [0,0],[0,3],A.intersection_collision_map,[0,9*playback_speed])\n",
    "#car_2\n",
    "car_3 = CarClass(*start_3,[3,0],[0,0],A.intersection_collision_map,[-10*playback_speed,0])\n",
    "car_4 = CarClass(*start_4,[3,1],[0,1],A.intersection_collision_map,[-10*playback_speed,0])\n",
    "#car_5\n",
    "#car_6\n",
    "car_7 = CarClass(*start_7,[0,3],[3,3],A.intersection_collision_map,[8*playback_speed,0])\n",
    "car_8 = CarClass(*start_8,[0,2],[3,2],A.intersection_collision_map,[8*playback_speed,0])\n",
    "\n",
    "global car_list\n",
    "car_list = [car_1, car_4,car_3,car_7,car_8]\n",
    "\n",
    "for car in car_list:\n",
    "    A.intersection_collision_map = car.get_area_to_clear(A.intersection_collision_map,car.source,car.target)"
   ]
  },
  {
   "cell_type": "markdown",
   "metadata": {},
   "source": [
    "# Modify Speeds Through Constant Acceleration"
   ]
  },
  {
   "cell_type": "code",
   "execution_count": 6,
   "metadata": {
    "collapsed": true
   },
   "outputs": [],
   "source": [
    "#car_1.is_collision_possible(car_list, A.intersection_collision_map)\n",
    "#car_2.is_collision_possible(car_list, A.intersection_collision_map)\n",
    "car_3.is_collision_possible(car_list, A.intersection_collision_map)\n",
    "car_4.is_collision_possible(car_list, A.intersection_collision_map)\n",
    "#car_5.is_collision_possible(car_list, A.intersection_collision_map)\n",
    "#car_6.is_collision_possible(car_list, A.intersection_collision_map)\n",
    "car_7.is_collision_possible(car_list, A.intersection_collision_map)\n",
    "car_8.is_collision_possible(car_list, A.intersection_collision_map)"
   ]
  },
  {
   "cell_type": "markdown",
   "metadata": {},
   "source": [
    "# Simulation (with Modification)"
   ]
  },
  {
   "cell_type": "code",
   "execution_count": 7,
   "metadata": {},
   "outputs": [],
   "source": [
    "#Simulate\n",
    "%matplotlib inline\n",
    "\n",
    "from matplotlib import animation, rc\n",
    "\n",
    "fig = plt.figure()\n",
    "ax1 = fig.add_subplot(1,1,1)\n",
    "plt.close()\n",
    "global image\n",
    "image = np.copy(A.background_map)\n",
    "def animate(i):\n",
    "    ax1.clear()\n",
    "    ax1.imshow(A.background_map)\n",
    "    image = A.update_cars(car_list)\n",
    "#    A.save_image\n",
    "    ax1.imshow(image,cmap='binary')\n",
    "ani = animation.FuncAnimation(fig, animate, interval=100*playback_speed, frames = 400)\n",
    "#plt.show()\n",
    "\n",
    "#The following code is used to output the html5_video:\n",
    "#from IPython.display import HTML\n",
    "#HTML(ani.to_html5_video())\n",
    "\n"
   ]
  },
  {
   "cell_type": "markdown",
   "metadata": {},
   "source": [
    "### Collision of 4 Cars with 1 Car (Adjusted)\n",
    "<img src=\"https://justinsj.weebly.com/uploads/6/4/9/2/64923303/download-1_orig.gif\" alt=\"Drawing\" style=\"width: 700px;\"/>"
   ]
  }
 ],
 "metadata": {
  "kernelspec": {
   "display_name": "Python 3",
   "language": "python",
   "name": "python3"
  },
  "language_info": {
   "codemirror_mode": {
    "name": "ipython",
    "version": 3
   },
   "file_extension": ".py",
   "mimetype": "text/x-python",
   "name": "python",
   "nbconvert_exporter": "python",
   "pygments_lexer": "ipython3",
   "version": "3.5.0"
  }
 },
 "nbformat": 4,
 "nbformat_minor": 2
}
